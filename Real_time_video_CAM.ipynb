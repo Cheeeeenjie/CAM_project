{
 "cells": [
  {
   "cell_type": "markdown",
   "metadata": {},
   "source": [
    "# A real time video CAM, click 'Run All'"
   ]
  },
  {
   "cell_type": "code",
   "execution_count": 28,
   "metadata": {},
   "outputs": [],
   "source": [
    "# import the libraries\n",
    "import torch\n",
    "from PIL import Image, ImageFont, ImageDraw\n",
    "import cv2      # open CV\n",
    "import pandas as pd\n",
    "import numpy as np\n",
    "from torchcam.utils import overlay_mask"
   ]
  },
  {
   "cell_type": "code",
   "execution_count": 29,
   "metadata": {},
   "outputs": [
    {
     "name": "stdout",
     "output_type": "stream",
     "text": [
      "Using device cuda\n",
      "2.1.1\n"
     ]
    }
   ],
   "source": [
    "device = torch.device('cuda' if torch.cuda.is_available() else 'cpu')\n",
    "print('Using device '+str(device))\n",
    "print( torch. __version__)"
   ]
  },
  {
   "cell_type": "code",
   "execution_count": 30,
   "metadata": {},
   "outputs": [],
   "source": [
    "import pandas as pd\n",
    "df = pd.read_csv('imagenet_class_index.csv')\n",
    "idx_to_labels = {}\n",
    "idx_to_labels_cn = {}\n",
    "for idx, row in df.iterrows():\n",
    "    idx_to_labels[row['ID']] = row['class']\n",
    "    idx_to_labels_cn[row['ID']] = row['Chinese']"
   ]
  },
  {
   "cell_type": "code",
   "execution_count": 31,
   "metadata": {},
   "outputs": [
    {
     "name": "stderr",
     "output_type": "stream",
     "text": [
      "d:\\Anaconda\\Lib\\site-packages\\torchvision\\models\\_utils.py:208: UserWarning: The parameter 'pretrained' is deprecated since 0.13 and may be removed in the future, please use 'weights' instead.\n",
      "  warnings.warn(\n",
      "d:\\Anaconda\\Lib\\site-packages\\torchvision\\models\\_utils.py:223: UserWarning: Arguments other than a weight enum or `None` for 'weights' are deprecated since 0.13 and may be removed in the future. The current behavior is equivalent to passing `weights=GoogLeNet_Weights.IMAGENET1K_V1`. You can also use `weights=GoogLeNet_Weights.DEFAULT` to get the most up-to-date weights.\n",
      "  warnings.warn(msg)\n",
      "WARNING:root:no value was provided for `target_layer`, thus set to 'inception5b'.\n"
     ]
    }
   ],
   "source": [
    "# Define your model\n",
    "from torchvision.models import googlenet\n",
    "from torchcam.methods import SmoothGradCAMpp\n",
    "\n",
    "\n",
    "model = googlenet(pretrained=True).eval().to(device)\n",
    "\n",
    "cam_extractor = SmoothGradCAMpp(model)"
   ]
  },
  {
   "cell_type": "code",
   "execution_count": 32,
   "metadata": {},
   "outputs": [],
   "source": [
    "from torchvision import transforms\n",
    "# Scale, Crop, Turn Tensor, Normalize\n",
    "test_transform = transforms.Compose([transforms.Resize(256),\n",
    "                            transforms.CenterCrop(224),\n",
    "                            transforms.ToTensor(),\n",
    "                            transforms.Normalize(\n",
    "                                mean=[0.485, 0.456, 0.406], \n",
    "                                std=[0.229, 0.224, 0.225])\n",
    "                        ])"
   ]
  },
  {
   "cell_type": "code",
   "execution_count": 33,
   "metadata": {},
   "outputs": [],
   "source": [
    "show_class_id = None\n",
    "Chinese = True"
   ]
  },
  {
   "cell_type": "code",
   "execution_count": 34,
   "metadata": {},
   "outputs": [],
   "source": [
    "font_size = 60\n",
    "font = ImageFont.truetype(\"arial.ttf\", font_size)"
   ]
  },
  {
   "cell_type": "code",
   "execution_count": 35,
   "metadata": {},
   "outputs": [],
   "source": [
    "def process_frame(img, show_class_id=None, Chinese=True):\n",
    "    \n",
    "    # video output size\n",
    "    new_width = 1800\n",
    "    new_height = 1080\n",
    "    img = cv2.resize(img, (new_width, new_height))\n",
    "    \n",
    "    img_bgr = img\n",
    "    img_rgb = cv2.cvtColor(img, cv2.COLOR_BGR2RGB) # BGR to RGB\n",
    "    img_pil = Image.fromarray(img_rgb) # array to pil\n",
    "    input_tensor = test_transform(img_pil).unsqueeze(0).to(device)\n",
    "\n",
    "    # send to model\n",
    "    pred_logits = model(input_tensor) # classification\n",
    "    pred_top1 = torch.topk(pred_logits, 1)\n",
    "    pred_id = pred_top1[1].detach().cpu().numpy().squeeze().item()\n",
    "    \n",
    "    if show_class_id:\n",
    "        show_id = show_class_id\n",
    "    else:\n",
    "        show_id = pred_id\n",
    "        show_class_id = pred_id\n",
    "        \n",
    "    # CAM\n",
    "    activation_map = cam_extractor(show_id, pred_logits)\n",
    "    activation_map = activation_map[0][0].detach().cpu().numpy()\n",
    "    result = overlay_mask(img_pil, Image.fromarray(activation_map), alpha=0.7)\n",
    "    \n",
    "    draw = ImageDraw.Draw(result)\n",
    "    \n",
    "    # draw lebels\n",
    "    text_pred = 'Pred Class: {}'.format(idx_to_labels[pred_id])\n",
    "\n",
    "    draw.text((50, 100), text_pred, font=font, fill=(255, 0, 0, 1))\n",
    "        \n",
    "    img_rgb = np.array(result)\n",
    "    img_bgr = cv2.cvtColor(img_rgb, cv2.COLOR_BGR2RGB)\n",
    "    return img_bgr"
   ]
  },
  {
   "cell_type": "code",
   "execution_count": 36,
   "metadata": {},
   "outputs": [],
   "source": [
    "import cv2\n",
    "import time\n",
    "\n",
    "# get camera\n",
    "cap = cv2.VideoCapture(1)\n",
    "\n",
    "# open cap\n",
    "cap.open(0)\n",
    "\n",
    "\n",
    "# when camera is open\n",
    "while cap.isOpened():\n",
    "    \n",
    "    # get image of camera\n",
    "    success, frame = cap.read()\n",
    "    if not success:\n",
    "        print('Error')\n",
    "        break\n",
    "    \n",
    "    ## classify image\n",
    "    frame = process_frame(frame)\n",
    "    \n",
    "    # deal with image\n",
    "    cv2.imshow('my_window',frame)\n",
    "\n",
    "    if cv2.waitKey(1) in [ord('q'),27]: # exit\n",
    "        break\n",
    "    \n",
    "# close camera\n",
    "cap.release()\n",
    "cv2.destroyAllWindows()"
   ]
  }
 ],
 "metadata": {
  "kernelspec": {
   "display_name": "base",
   "language": "python",
   "name": "python3"
  },
  "language_info": {
   "codemirror_mode": {
    "name": "ipython",
    "version": 3
   },
   "file_extension": ".py",
   "mimetype": "text/x-python",
   "name": "python",
   "nbconvert_exporter": "python",
   "pygments_lexer": "ipython3",
   "version": "3.11.5"
  }
 },
 "nbformat": 4,
 "nbformat_minor": 2
}
